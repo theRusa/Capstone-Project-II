{
 "cells": [
  {
   "cell_type": "code",
   "execution_count": 1,
   "id": "f8d3ebc4",
   "metadata": {},
   "outputs": [],
   "source": [
    "import pandas as pd\n",
    "import numpy as np\n",
    "import os\n",
    "import seaborn as sns\n",
    "import matplotlib.pyplot as plt\n",
    "\n"
   ]
  },
  {
   "cell_type": "code",
   "execution_count": 2,
   "id": "ec5b77bc",
   "metadata": {},
   "outputs": [],
   "source": [
    "df = pd.read_csv('/Users/majapedigo/Desktop/ Capstone Project II/Game_sales.csv')\n"
   ]
  },
  {
   "cell_type": "code",
   "execution_count": 3,
   "id": "9ec75f86",
   "metadata": {},
   "outputs": [
    {
     "data": {
      "text/html": [
       "<div>\n",
       "<style scoped>\n",
       "    .dataframe tbody tr th:only-of-type {\n",
       "        vertical-align: middle;\n",
       "    }\n",
       "\n",
       "    .dataframe tbody tr th {\n",
       "        vertical-align: top;\n",
       "    }\n",
       "\n",
       "    .dataframe thead th {\n",
       "        text-align: right;\n",
       "    }\n",
       "</style>\n",
       "<table border=\"1\" class=\"dataframe\">\n",
       "  <thead>\n",
       "    <tr style=\"text-align: right;\">\n",
       "      <th></th>\n",
       "      <th>Rank</th>\n",
       "      <th>Name</th>\n",
       "      <th>Platform</th>\n",
       "      <th>Year</th>\n",
       "      <th>Genre</th>\n",
       "      <th>Publisher</th>\n",
       "      <th>NA_Sales</th>\n",
       "      <th>EU_Sales</th>\n",
       "      <th>JP_Sales</th>\n",
       "      <th>Other_Sales</th>\n",
       "      <th>Global_Sales</th>\n",
       "    </tr>\n",
       "  </thead>\n",
       "  <tbody>\n",
       "    <tr>\n",
       "      <th>0</th>\n",
       "      <td>1</td>\n",
       "      <td>Wii Sports</td>\n",
       "      <td>Wii</td>\n",
       "      <td>2006.0</td>\n",
       "      <td>Sports</td>\n",
       "      <td>Nintendo</td>\n",
       "      <td>41.49</td>\n",
       "      <td>29.02</td>\n",
       "      <td>3.77</td>\n",
       "      <td>8.46</td>\n",
       "      <td>82.74</td>\n",
       "    </tr>\n",
       "    <tr>\n",
       "      <th>1</th>\n",
       "      <td>2</td>\n",
       "      <td>Super Mario Bros.</td>\n",
       "      <td>NES</td>\n",
       "      <td>1985.0</td>\n",
       "      <td>Platform</td>\n",
       "      <td>Nintendo</td>\n",
       "      <td>29.08</td>\n",
       "      <td>3.58</td>\n",
       "      <td>6.81</td>\n",
       "      <td>0.77</td>\n",
       "      <td>40.24</td>\n",
       "    </tr>\n",
       "    <tr>\n",
       "      <th>2</th>\n",
       "      <td>3</td>\n",
       "      <td>Mario Kart Wii</td>\n",
       "      <td>Wii</td>\n",
       "      <td>2008.0</td>\n",
       "      <td>Racing</td>\n",
       "      <td>Nintendo</td>\n",
       "      <td>15.85</td>\n",
       "      <td>12.88</td>\n",
       "      <td>3.79</td>\n",
       "      <td>3.31</td>\n",
       "      <td>35.82</td>\n",
       "    </tr>\n",
       "    <tr>\n",
       "      <th>3</th>\n",
       "      <td>4</td>\n",
       "      <td>Wii Sports Resort</td>\n",
       "      <td>Wii</td>\n",
       "      <td>2009.0</td>\n",
       "      <td>Sports</td>\n",
       "      <td>Nintendo</td>\n",
       "      <td>15.75</td>\n",
       "      <td>11.01</td>\n",
       "      <td>3.28</td>\n",
       "      <td>2.96</td>\n",
       "      <td>33.00</td>\n",
       "    </tr>\n",
       "    <tr>\n",
       "      <th>4</th>\n",
       "      <td>5</td>\n",
       "      <td>Pokemon Red/Pokemon Blue</td>\n",
       "      <td>GB</td>\n",
       "      <td>1996.0</td>\n",
       "      <td>Role-Playing</td>\n",
       "      <td>Nintendo</td>\n",
       "      <td>11.27</td>\n",
       "      <td>8.89</td>\n",
       "      <td>10.22</td>\n",
       "      <td>1.00</td>\n",
       "      <td>31.37</td>\n",
       "    </tr>\n",
       "  </tbody>\n",
       "</table>\n",
       "</div>"
      ],
      "text/plain": [
       "   Rank                      Name Platform    Year         Genre Publisher  \\\n",
       "0     1                Wii Sports      Wii  2006.0        Sports  Nintendo   \n",
       "1     2         Super Mario Bros.      NES  1985.0      Platform  Nintendo   \n",
       "2     3            Mario Kart Wii      Wii  2008.0        Racing  Nintendo   \n",
       "3     4         Wii Sports Resort      Wii  2009.0        Sports  Nintendo   \n",
       "4     5  Pokemon Red/Pokemon Blue       GB  1996.0  Role-Playing  Nintendo   \n",
       "\n",
       "   NA_Sales  EU_Sales  JP_Sales  Other_Sales  Global_Sales  \n",
       "0     41.49     29.02      3.77         8.46         82.74  \n",
       "1     29.08      3.58      6.81         0.77         40.24  \n",
       "2     15.85     12.88      3.79         3.31         35.82  \n",
       "3     15.75     11.01      3.28         2.96         33.00  \n",
       "4     11.27      8.89     10.22         1.00         31.37  "
      ]
     },
     "execution_count": 3,
     "metadata": {},
     "output_type": "execute_result"
    }
   ],
   "source": [
    "df.head()"
   ]
  },
  {
   "cell_type": "code",
   "execution_count": 4,
   "id": "1ec330e8",
   "metadata": {},
   "outputs": [
    {
     "name": "stdout",
     "output_type": "stream",
     "text": [
      "<class 'pandas.core.frame.DataFrame'>\n",
      "RangeIndex: 16598 entries, 0 to 16597\n",
      "Data columns (total 11 columns):\n",
      " #   Column        Non-Null Count  Dtype  \n",
      "---  ------        --------------  -----  \n",
      " 0   Rank          16598 non-null  int64  \n",
      " 1   Name          16598 non-null  object \n",
      " 2   Platform      16598 non-null  object \n",
      " 3   Year          16327 non-null  float64\n",
      " 4   Genre         16598 non-null  object \n",
      " 5   Publisher     16540 non-null  object \n",
      " 6   NA_Sales      16598 non-null  float64\n",
      " 7   EU_Sales      16598 non-null  float64\n",
      " 8   JP_Sales      16598 non-null  float64\n",
      " 9   Other_Sales   16598 non-null  float64\n",
      " 10  Global_Sales  16598 non-null  float64\n",
      "dtypes: float64(6), int64(1), object(4)\n",
      "memory usage: 5.2 MB\n"
     ]
    }
   ],
   "source": [
    "df.info(memory_usage='deep')"
   ]
  },
  {
   "cell_type": "code",
   "execution_count": 5,
   "id": "51bf7f05",
   "metadata": {},
   "outputs": [
    {
     "data": {
      "text/plain": [
       "Rank            16598\n",
       "Name            11493\n",
       "Platform           31\n",
       "Year               39\n",
       "Genre              12\n",
       "Publisher         578\n",
       "NA_Sales          409\n",
       "EU_Sales          305\n",
       "JP_Sales          244\n",
       "Other_Sales       157\n",
       "Global_Sales      623\n",
       "dtype: int64"
      ]
     },
     "execution_count": 5,
     "metadata": {},
     "output_type": "execute_result"
    }
   ],
   "source": [
    "df.nunique()"
   ]
  },
  {
   "cell_type": "markdown",
   "id": "3a331e61",
   "metadata": {},
   "source": [
    "Info tells us that there are many null values in the 'year'column, some are missing in the 'Publisher' column, and 'year' should be converted to int type.\n",
    "'Name' column shows that there are games that were ranked in multiple places across the platforms and over the years."
   ]
  },
  {
   "cell_type": "code",
   "execution_count": 6,
   "id": "bd282e42",
   "metadata": {},
   "outputs": [
    {
     "data": {
      "text/plain": [
       "Rank            [1, 2, 3, 4, 5, 6, 7, 8, 9, 10, 11, 12, 13, 14...\n",
       "Name            [Wii Sports, Super Mario Bros., Mario Kart Wii...\n",
       "Platform        [Wii, NES, GB, DS, X360, PS3, PS2, SNES, GBA, ...\n",
       "Year            [2006.0, 1985.0, 2008.0, 2009.0, 1996.0, 1989....\n",
       "Genre           [Sports, Platform, Racing, Role-Playing, Puzzl...\n",
       "Publisher       [Nintendo, Microsoft Game Studios, Take-Two In...\n",
       "NA_Sales        [41.49, 29.08, 15.85, 15.75, 11.27, 23.2, 11.3...\n",
       "EU_Sales        [29.02, 3.58, 12.88, 11.01, 8.89, 2.26, 9.23, ...\n",
       "JP_Sales        [3.77, 6.81, 3.79, 3.28, 10.22, 4.22, 6.5, 2.9...\n",
       "Other_Sales     [8.46, 0.77, 3.31, 2.96, 1.0, 0.58, 2.9, 2.85,...\n",
       "Global_Sales    [82.74, 40.24, 35.82, 33.0, 31.37, 30.26, 30.0...\n",
       "dtype: object"
      ]
     },
     "execution_count": 6,
     "metadata": {},
     "output_type": "execute_result"
    }
   ],
   "source": [
    "df.apply(pd.unique)"
   ]
  },
  {
   "cell_type": "code",
   "execution_count": 7,
   "id": "945d30c8",
   "metadata": {},
   "outputs": [
    {
     "data": {
      "text/plain": [
       "2009.0    1431\n",
       "2008.0    1428\n",
       "2010.0    1259\n",
       "2007.0    1202\n",
       "2011.0    1139\n",
       "2006.0    1008\n",
       "2005.0     941\n",
       "2002.0     829\n",
       "2003.0     775\n",
       "2004.0     763\n",
       "2012.0     657\n",
       "2015.0     614\n",
       "2014.0     582\n",
       "2013.0     546\n",
       "2001.0     482\n",
       "1998.0     379\n",
       "2000.0     349\n",
       "2016.0     344\n",
       "1999.0     338\n",
       "1997.0     289\n",
       "NaN        271\n",
       "1996.0     263\n",
       "1995.0     219\n",
       "1994.0     121\n",
       "1993.0      60\n",
       "1981.0      46\n",
       "1992.0      43\n",
       "1991.0      41\n",
       "1982.0      36\n",
       "1986.0      21\n",
       "1989.0      17\n",
       "1983.0      17\n",
       "1990.0      16\n",
       "1987.0      16\n",
       "1988.0      15\n",
       "1985.0      14\n",
       "1984.0      14\n",
       "1980.0       9\n",
       "2017.0       3\n",
       "2020.0       1\n",
       "Name: Year, dtype: int64"
      ]
     },
     "execution_count": 7,
     "metadata": {},
     "output_type": "execute_result"
    }
   ],
   "source": [
    "df['Year'].value_counts(dropna=False)"
   ]
  },
  {
   "cell_type": "code",
   "execution_count": 8,
   "id": "16f0e2c4",
   "metadata": {},
   "outputs": [
    {
     "data": {
      "text/plain": [
       "(16598, 11)"
      ]
     },
     "execution_count": 8,
     "metadata": {},
     "output_type": "execute_result"
    }
   ],
   "source": [
    "df.shape"
   ]
  },
  {
   "cell_type": "markdown",
   "id": "0acc8531",
   "metadata": {},
   "source": [
    "271 NaN values in the column 'Year', years 2017, 2020, and 1980 have only a few rows so we will drop them. "
   ]
  },
  {
   "cell_type": "code",
   "execution_count": 9,
   "id": "df59de06",
   "metadata": {},
   "outputs": [
    {
     "data": {
      "text/plain": [
       "(16585, 11)"
      ]
     },
     "execution_count": 9,
     "metadata": {},
     "output_type": "execute_result"
    }
   ],
   "source": [
    "df_drop_index = df[df.Year.isin([2017, 2020, 1980])].index\n",
    "df = df.drop(df_drop_index)\n",
    "df.shape"
   ]
  },
  {
   "cell_type": "code",
   "execution_count": 10,
   "id": "34f20825",
   "metadata": {},
   "outputs": [
    {
     "name": "stdout",
     "output_type": "stream",
     "text": [
      "Rank              0\n",
      "Name              0\n",
      "Platform          0\n",
      "Year            271\n",
      "Genre             0\n",
      "Publisher        58\n",
      "NA_Sales          0\n",
      "EU_Sales          0\n",
      "JP_Sales          0\n",
      "Other_Sales       0\n",
      "Global_Sales      0\n",
      "dtype: int64\n"
     ]
    }
   ],
   "source": [
    "missing_count = df.shape[0] - df.count() \n",
    "print(missing_count)"
   ]
  },
  {
   "cell_type": "code",
   "execution_count": 11,
   "id": "1e0c0349",
   "metadata": {},
   "outputs": [
    {
     "data": {
      "text/plain": [
       "Rank             0\n",
       "Name             0\n",
       "Platform         0\n",
       "Year             0\n",
       "Genre            0\n",
       "Publisher       36\n",
       "NA_Sales         0\n",
       "EU_Sales         0\n",
       "JP_Sales         0\n",
       "Other_Sales      0\n",
       "Global_Sales     0\n",
       "dtype: int64"
      ]
     },
     "execution_count": 11,
     "metadata": {},
     "output_type": "execute_result"
    }
   ],
   "source": [
    "## Since the data contain time-trend data, Year-null value shoudl be dropped ## \n",
    "\n",
    "df = df.dropna(subset=['Year'])\n",
    "df.isnull().sum()"
   ]
  },
  {
   "cell_type": "code",
   "execution_count": 12,
   "id": "9af45d74",
   "metadata": {},
   "outputs": [
    {
     "data": {
      "text/plain": [
       "(16314, 11)"
      ]
     },
     "execution_count": 12,
     "metadata": {},
     "output_type": "execute_result"
    }
   ],
   "source": [
    "df.shape"
   ]
  },
  {
   "cell_type": "markdown",
   "id": "e857fcb9",
   "metadata": {},
   "source": [
    "We should also change the 'Year' type to int"
   ]
  },
  {
   "cell_type": "code",
   "execution_count": 13,
   "id": "6c9492a1",
   "metadata": {},
   "outputs": [],
   "source": [
    "df = df.astype({\"Year\": int})"
   ]
  },
  {
   "cell_type": "code",
   "execution_count": 14,
   "id": "f59dfb03",
   "metadata": {},
   "outputs": [
    {
     "name": "stdout",
     "output_type": "stream",
     "text": [
      "P-Value for Anova is:  4.787429646654068e-136\n"
     ]
    }
   ],
   "source": [
    "from scipy.stats import f_oneway\n",
    " \n",
    "# Running the one-way anova test between Publisher and Global_Sales\n",
    "# Assumption(H0) is that Publisher and Global_Sales are NOT correlated\n",
    " \n",
    "# Finds out the Global_Sales data for each Publisher as a list\n",
    "CategoryGroupLists=df.groupby('Publisher')['Global_Sales'].apply(list)\n",
    " \n",
    "# Performing the ANOVA test\n",
    "# We accept the Assumption(H0) only when P-Value &gt; 0.05\n",
    "AnovaResults = f_oneway(*CategoryGroupLists)\n",
    "print('P-Value for Anova is: ', AnovaResults[1])"
   ]
  },
  {
   "cell_type": "markdown",
   "id": "af55fac2",
   "metadata": {},
   "source": [
    "\n",
    "Performed Anova test to check correlation between a categorical variable Publisher and target numerical variable, as Publisher variable has many missing values and we are thinking about removing it completely, as it may not be relevant for our prediction.\n",
    "However, Anova test showed P-value to be less than 0.05, and this means that Publisher and Global_Sales ARE correlated, and Publisher cannot be removed. \n",
    "\n",
    "However, since only 58 rows have missing values, compared to the total number of rows this is not a lot, so we will drop those rows as well.\n",
    "\n"
   ]
  },
  {
   "cell_type": "code",
   "execution_count": 15,
   "id": "2d26ad79",
   "metadata": {},
   "outputs": [
    {
     "data": {
      "text/plain": [
       "Rank            0\n",
       "Name            0\n",
       "Platform        0\n",
       "Year            0\n",
       "Genre           0\n",
       "Publisher       0\n",
       "NA_Sales        0\n",
       "EU_Sales        0\n",
       "JP_Sales        0\n",
       "Other_Sales     0\n",
       "Global_Sales    0\n",
       "dtype: int64"
      ]
     },
     "execution_count": 15,
     "metadata": {},
     "output_type": "execute_result"
    }
   ],
   "source": [
    "df = df.dropna(subset=['Publisher'])\n",
    "df.isnull().sum()"
   ]
  },
  {
   "cell_type": "code",
   "execution_count": 16,
   "id": "d76e5999",
   "metadata": {},
   "outputs": [
    {
     "data": {
      "text/html": [
       "<div>\n",
       "<style scoped>\n",
       "    .dataframe tbody tr th:only-of-type {\n",
       "        vertical-align: middle;\n",
       "    }\n",
       "\n",
       "    .dataframe tbody tr th {\n",
       "        vertical-align: top;\n",
       "    }\n",
       "\n",
       "    .dataframe thead th {\n",
       "        text-align: right;\n",
       "    }\n",
       "</style>\n",
       "<table border=\"1\" class=\"dataframe\">\n",
       "  <thead>\n",
       "    <tr style=\"text-align: right;\">\n",
       "      <th></th>\n",
       "      <th>Rank</th>\n",
       "      <th>Name</th>\n",
       "      <th>Platform</th>\n",
       "      <th>Year</th>\n",
       "      <th>Genre</th>\n",
       "      <th>Publisher</th>\n",
       "      <th>NA_Sales</th>\n",
       "      <th>EU_Sales</th>\n",
       "      <th>JP_Sales</th>\n",
       "      <th>Other_Sales</th>\n",
       "      <th>Global_Sales</th>\n",
       "    </tr>\n",
       "  </thead>\n",
       "  <tbody>\n",
       "  </tbody>\n",
       "</table>\n",
       "</div>"
      ],
      "text/plain": [
       "Empty DataFrame\n",
       "Columns: [Rank, Name, Platform, Year, Genre, Publisher, NA_Sales, EU_Sales, JP_Sales, Other_Sales, Global_Sales]\n",
       "Index: []"
      ]
     },
     "execution_count": 16,
     "metadata": {},
     "output_type": "execute_result"
    }
   ],
   "source": [
    "df[df.duplicated(keep=False)]"
   ]
  },
  {
   "cell_type": "markdown",
   "id": "927bc84b",
   "metadata": {},
   "source": [
    "No duplicated rows in this dataset.\n"
   ]
  },
  {
   "cell_type": "code",
   "execution_count": 17,
   "id": "dd221a0f",
   "metadata": {},
   "outputs": [
    {
     "data": {
      "text/plain": [
       "Index(['rank', 'name', 'platform', 'year', 'genre', 'publisher', 'na_sales',\n",
       "       'eu_sales', 'jp_sales', 'other_sales', 'global_sales'],\n",
       "      dtype='object')"
      ]
     },
     "execution_count": 17,
     "metadata": {},
     "output_type": "execute_result"
    }
   ],
   "source": [
    "# rename  columns to lower case\n",
    "df.columns= df.columns.str.lower()\n",
    "df.columns"
   ]
  },
  {
   "cell_type": "code",
   "execution_count": 18,
   "id": "5dfa6237",
   "metadata": {},
   "outputs": [
    {
     "data": {
      "text/html": [
       "<div>\n",
       "<style scoped>\n",
       "    .dataframe tbody tr th:only-of-type {\n",
       "        vertical-align: middle;\n",
       "    }\n",
       "\n",
       "    .dataframe tbody tr th {\n",
       "        vertical-align: top;\n",
       "    }\n",
       "\n",
       "    .dataframe thead th {\n",
       "        text-align: right;\n",
       "    }\n",
       "</style>\n",
       "<table border=\"1\" class=\"dataframe\">\n",
       "  <thead>\n",
       "    <tr style=\"text-align: right;\">\n",
       "      <th></th>\n",
       "      <th>rank</th>\n",
       "      <th>year</th>\n",
       "      <th>na_sales</th>\n",
       "      <th>eu_sales</th>\n",
       "      <th>jp_sales</th>\n",
       "      <th>other_sales</th>\n",
       "      <th>global_sales</th>\n",
       "    </tr>\n",
       "  </thead>\n",
       "  <tbody>\n",
       "    <tr>\n",
       "      <th>count</th>\n",
       "      <td>16278.000000</td>\n",
       "      <td>16278.000000</td>\n",
       "      <td>16278.000000</td>\n",
       "      <td>16278.000000</td>\n",
       "      <td>16278.000000</td>\n",
       "      <td>16278.000000</td>\n",
       "      <td>16278.000000</td>\n",
       "    </tr>\n",
       "    <tr>\n",
       "      <th>mean</th>\n",
       "      <td>8291.720482</td>\n",
       "      <td>2006.417373</td>\n",
       "      <td>0.265192</td>\n",
       "      <td>0.147808</td>\n",
       "      <td>0.078893</td>\n",
       "      <td>0.048456</td>\n",
       "      <td>0.540622</td>\n",
       "    </tr>\n",
       "    <tr>\n",
       "      <th>std</th>\n",
       "      <td>4791.725737</td>\n",
       "      <td>5.798835</td>\n",
       "      <td>0.821982</td>\n",
       "      <td>0.509495</td>\n",
       "      <td>0.311997</td>\n",
       "      <td>0.190155</td>\n",
       "      <td>1.567561</td>\n",
       "    </tr>\n",
       "    <tr>\n",
       "      <th>min</th>\n",
       "      <td>1.000000</td>\n",
       "      <td>1981.000000</td>\n",
       "      <td>0.000000</td>\n",
       "      <td>0.000000</td>\n",
       "      <td>0.000000</td>\n",
       "      <td>0.000000</td>\n",
       "      <td>0.010000</td>\n",
       "    </tr>\n",
       "    <tr>\n",
       "      <th>25%</th>\n",
       "      <td>4135.250000</td>\n",
       "      <td>2003.000000</td>\n",
       "      <td>0.000000</td>\n",
       "      <td>0.000000</td>\n",
       "      <td>0.000000</td>\n",
       "      <td>0.000000</td>\n",
       "      <td>0.060000</td>\n",
       "    </tr>\n",
       "    <tr>\n",
       "      <th>50%</th>\n",
       "      <td>8295.500000</td>\n",
       "      <td>2007.000000</td>\n",
       "      <td>0.080000</td>\n",
       "      <td>0.020000</td>\n",
       "      <td>0.000000</td>\n",
       "      <td>0.010000</td>\n",
       "      <td>0.170000</td>\n",
       "    </tr>\n",
       "    <tr>\n",
       "      <th>75%</th>\n",
       "      <td>12439.750000</td>\n",
       "      <td>2010.000000</td>\n",
       "      <td>0.240000</td>\n",
       "      <td>0.110000</td>\n",
       "      <td>0.040000</td>\n",
       "      <td>0.040000</td>\n",
       "      <td>0.480000</td>\n",
       "    </tr>\n",
       "    <tr>\n",
       "      <th>max</th>\n",
       "      <td>16600.000000</td>\n",
       "      <td>2016.000000</td>\n",
       "      <td>41.490000</td>\n",
       "      <td>29.020000</td>\n",
       "      <td>10.220000</td>\n",
       "      <td>10.570000</td>\n",
       "      <td>82.740000</td>\n",
       "    </tr>\n",
       "  </tbody>\n",
       "</table>\n",
       "</div>"
      ],
      "text/plain": [
       "               rank          year      na_sales      eu_sales      jp_sales  \\\n",
       "count  16278.000000  16278.000000  16278.000000  16278.000000  16278.000000   \n",
       "mean    8291.720482   2006.417373      0.265192      0.147808      0.078893   \n",
       "std     4791.725737      5.798835      0.821982      0.509495      0.311997   \n",
       "min        1.000000   1981.000000      0.000000      0.000000      0.000000   \n",
       "25%     4135.250000   2003.000000      0.000000      0.000000      0.000000   \n",
       "50%     8295.500000   2007.000000      0.080000      0.020000      0.000000   \n",
       "75%    12439.750000   2010.000000      0.240000      0.110000      0.040000   \n",
       "max    16600.000000   2016.000000     41.490000     29.020000     10.220000   \n",
       "\n",
       "        other_sales  global_sales  \n",
       "count  16278.000000  16278.000000  \n",
       "mean       0.048456      0.540622  \n",
       "std        0.190155      1.567561  \n",
       "min        0.000000      0.010000  \n",
       "25%        0.000000      0.060000  \n",
       "50%        0.010000      0.170000  \n",
       "75%        0.040000      0.480000  \n",
       "max       10.570000     82.740000  "
      ]
     },
     "execution_count": 18,
     "metadata": {},
     "output_type": "execute_result"
    }
   ],
   "source": [
    "df.describe()"
   ]
  },
  {
   "cell_type": "markdown",
   "id": "c51210de",
   "metadata": {},
   "source": [
    "Our sales columns do not have outliers according to the above."
   ]
  },
  {
   "cell_type": "code",
   "execution_count": null,
   "id": "90625590",
   "metadata": {},
   "outputs": [],
   "source": []
  }
 ],
 "metadata": {
  "kernelspec": {
   "display_name": "Python 3 (ipykernel)",
   "language": "python",
   "name": "python3"
  },
  "language_info": {
   "codemirror_mode": {
    "name": "ipython",
    "version": 3
   },
   "file_extension": ".py",
   "mimetype": "text/x-python",
   "name": "python",
   "nbconvert_exporter": "python",
   "pygments_lexer": "ipython3",
   "version": "3.8.8"
  }
 },
 "nbformat": 4,
 "nbformat_minor": 5
}
